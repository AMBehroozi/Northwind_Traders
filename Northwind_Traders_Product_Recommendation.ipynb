{
 "cells": [
  {
   "cell_type": "markdown",
   "id": "16efdbb9",
   "metadata": {},
   "source": [
    "## 🧩 **Goal**\n",
    "\n",
    "Recommend products that are often purchased together — a “customers who bought X also bought Y” system.\n",
    "We’ll use **association rule mining** (Apriori algorithm), a simple yet powerful technique for transactional data.\n",
    "\n",
    "---\n",
    "\n",
    "---\n",
    "\n",
    "## 🔹 **How it Works**\n",
    "\n",
    "* Each row represents an **order (basket)**.\n",
    "* Each column represents a **product**.\n",
    "* The Apriori algorithm finds **frequent item combinations** (e.g., products bought together).\n",
    "* The `association_rules` function derives rules like:\n",
    "  “If Product A is bought, Product B is also likely.”\n",
    "\n",
    "---\n",
    "\n",
    "## 🔹 **Interpretation Example**\n",
    "\n",
    "| Rule                     | Support | Confidence | Lift | Meaning                                                                        |\n",
    "| ------------------------ | ------- | ---------- | ---- | ------------------------------------------------------------------------------ |\n",
    "| `{Chai}` → `{Chang}`     | 0.08    | 0.55       | 1.9  | 8% of all orders include both; buying Chai nearly doubles odds of buying Chang |\n",
    "| `{Tofu}` → `{Soy Sauce}` | 0.06    | 0.62       | 2.3  | Tofu buyers are 2.3× more likely to buy Soy Sauce                              |\n",
    "\n",
    "---\n",
    "\n",
    "## 🔹 **Business Meaning**\n",
    "\n",
    "Physically, these results reveal *cross-selling opportunities*.\n",
    "\n",
    "* Products often bought together likely serve complementary needs (e.g., coffee + sugar).\n",
    "* You can **bundle** them or **recommend** one after the other in online or sales systems.\n",
    "* This insight also helps optimize inventory — knowing which items drive joint demand.\n",
    "\n"
   ]
  }
 ],
 "metadata": {
  "kernelspec": {
   "display_name": "data",
   "language": "python",
   "name": "python3"
  },
  "language_info": {
   "name": "python",
   "version": "3.12.3"
  }
 },
 "nbformat": 4,
 "nbformat_minor": 5
}
